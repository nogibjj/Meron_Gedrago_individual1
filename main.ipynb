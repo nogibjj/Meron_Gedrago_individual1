{
 "cells": [
  {
   "cell_type": "code",
   "execution_count": null,
   "metadata": {},
   "outputs": [],
   "source": [
    "from mylib.lib import load_dataset, describe_data, find_min_and_max, create_graph\n",
    "\n",
    "loaded_data = load_dataset(\n",
    "    \"https://data.cdc.gov/api/views/95ax-ymtc/rows.csv?accessType=DOWNLOAD\"\n",
    ")\n",
    "# furthering the cleaning this specific dataset\n",
    "data = loaded_data[\n",
    "    (loaded_data[\"STUB_NAME\"] == \"Total\")\n",
    "    & (loaded_data[\"AGE\"] == \"All ages\")\n",
    "    & (loaded_data[\"PANEL\"] == \"All drug overdose deaths\")\n",
    "    & (loaded_data[\"UNIT\"] == \"Deaths per 100,000 resident population, crude\")\n",
    "]\n",
    "interested_column = data[\"ESTIMATE\"]\n",
    "print(describe_data(interested_column))\n",
    "print(find_min_and_max(interested_column))\n",
    "create_graph(data)"
   ]
  }
 ],
 "metadata": {
  "language_info": {
   "name": "python"
  }
 },
 "nbformat": 4,
 "nbformat_minor": 2
}
